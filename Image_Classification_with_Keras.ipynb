{
  "nbformat": 4,
  "nbformat_minor": 0,
  "metadata": {
    "kernelspec": {
      "display_name": "Python",
      "language": "python",
      "name": "conda-env-python-py"
    },
    "language_info": {
      "codemirror_mode": {
        "name": "ipython",
        "version": 3
      },
      "file_extension": ".py",
      "mimetype": "text/x-python",
      "name": "python",
      "nbconvert_exporter": "python",
      "pygments_lexer": "ipython3",
      "version": "3.6.12"
    },
    "colab": {
      "name": "Image_Classification_with_Keras.ipynb",
      "provenance": [],
      "collapsed_sections": []
    }
  },
  "cells": [
    {
      "cell_type": "markdown",
      "metadata": {
        "id": "gZg3basjt701"
      },
      "source": [
        "### **Image Classification with Keras in Tensorflow**\n",
        "\n",
        "In this notebook, I create a simple deep neural network model that predicts the digits 0-9 from hand-written images with a very high degree of accuracy. \n",
        "\n"
      ]
    },
    {
      "cell_type": "code",
      "metadata": {
        "colab": {
          "base_uri": "https://localhost:8080/"
        },
        "id": "MLvMISdXt9yf",
        "outputId": "6f2dc594-d932-4dcd-e6aa-5a0e85eb17d7"
      },
      "source": [
        "import tensorflow as tf\n",
        "from tensorflow import keras\n",
        "import numpy as np\n",
        "import matplotlib.pyplot as plt\n",
        "%matplotlib inline\n",
        "\n",
        "print('Using TensorFlow version', tf.__version__)"
      ],
      "execution_count": 32,
      "outputs": [
        {
          "output_type": "stream",
          "text": [
            "Using TensorFlow version 2.4.0\n"
          ],
          "name": "stdout"
        }
      ]
    },
    {
      "cell_type": "markdown",
      "metadata": {
        "id": "1SN1NC7cLCnF"
      },
      "source": [
        "**I will be using the MNIST dataset, which has 60,000 images in the training set and 10,000 images in the test set.**"
      ]
    },
    {
      "cell_type": "code",
      "metadata": {
        "id": "pIYWFoMW4s3g"
      },
      "source": [
        "mnist = tf.keras.datasets.mnist\n",
        "\n",
        "(x_train, y_train), (x_test, y_test) = mnist.load_data()"
      ],
      "execution_count": 33,
      "outputs": []
    },
    {
      "cell_type": "markdown",
      "metadata": {
        "id": "ic0VV8I2LfPn"
      },
      "source": [
        "**This is the tensor of the first element in the training set.**"
      ]
    },
    {
      "cell_type": "code",
      "metadata": {
        "id": "J7Mu6b4o4s3h",
        "colab": {
          "base_uri": "https://localhost:8080/"
        },
        "outputId": "9df40230-3390-4ec0-c51a-5f42f9c80f91"
      },
      "source": [
        "print(x_train[0])"
      ],
      "execution_count": 34,
      "outputs": [
        {
          "output_type": "stream",
          "text": [
            "[[  0   0   0   0   0   0   0   0   0   0   0   0   0   0   0   0   0   0\n",
            "    0   0   0   0   0   0   0   0   0   0]\n",
            " [  0   0   0   0   0   0   0   0   0   0   0   0   0   0   0   0   0   0\n",
            "    0   0   0   0   0   0   0   0   0   0]\n",
            " [  0   0   0   0   0   0   0   0   0   0   0   0   0   0   0   0   0   0\n",
            "    0   0   0   0   0   0   0   0   0   0]\n",
            " [  0   0   0   0   0   0   0   0   0   0   0   0   0   0   0   0   0   0\n",
            "    0   0   0   0   0   0   0   0   0   0]\n",
            " [  0   0   0   0   0   0   0   0   0   0   0   0   0   0   0   0   0   0\n",
            "    0   0   0   0   0   0   0   0   0   0]\n",
            " [  0   0   0   0   0   0   0   0   0   0   0   0   3  18  18  18 126 136\n",
            "  175  26 166 255 247 127   0   0   0   0]\n",
            " [  0   0   0   0   0   0   0   0  30  36  94 154 170 253 253 253 253 253\n",
            "  225 172 253 242 195  64   0   0   0   0]\n",
            " [  0   0   0   0   0   0   0  49 238 253 253 253 253 253 253 253 253 251\n",
            "   93  82  82  56  39   0   0   0   0   0]\n",
            " [  0   0   0   0   0   0   0  18 219 253 253 253 253 253 198 182 247 241\n",
            "    0   0   0   0   0   0   0   0   0   0]\n",
            " [  0   0   0   0   0   0   0   0  80 156 107 253 253 205  11   0  43 154\n",
            "    0   0   0   0   0   0   0   0   0   0]\n",
            " [  0   0   0   0   0   0   0   0   0  14   1 154 253  90   0   0   0   0\n",
            "    0   0   0   0   0   0   0   0   0   0]\n",
            " [  0   0   0   0   0   0   0   0   0   0   0 139 253 190   2   0   0   0\n",
            "    0   0   0   0   0   0   0   0   0   0]\n",
            " [  0   0   0   0   0   0   0   0   0   0   0  11 190 253  70   0   0   0\n",
            "    0   0   0   0   0   0   0   0   0   0]\n",
            " [  0   0   0   0   0   0   0   0   0   0   0   0  35 241 225 160 108   1\n",
            "    0   0   0   0   0   0   0   0   0   0]\n",
            " [  0   0   0   0   0   0   0   0   0   0   0   0   0  81 240 253 253 119\n",
            "   25   0   0   0   0   0   0   0   0   0]\n",
            " [  0   0   0   0   0   0   0   0   0   0   0   0   0   0  45 186 253 253\n",
            "  150  27   0   0   0   0   0   0   0   0]\n",
            " [  0   0   0   0   0   0   0   0   0   0   0   0   0   0   0  16  93 252\n",
            "  253 187   0   0   0   0   0   0   0   0]\n",
            " [  0   0   0   0   0   0   0   0   0   0   0   0   0   0   0   0   0 249\n",
            "  253 249  64   0   0   0   0   0   0   0]\n",
            " [  0   0   0   0   0   0   0   0   0   0   0   0   0   0  46 130 183 253\n",
            "  253 207   2   0   0   0   0   0   0   0]\n",
            " [  0   0   0   0   0   0   0   0   0   0   0   0  39 148 229 253 253 253\n",
            "  250 182   0   0   0   0   0   0   0   0]\n",
            " [  0   0   0   0   0   0   0   0   0   0  24 114 221 253 253 253 253 201\n",
            "   78   0   0   0   0   0   0   0   0   0]\n",
            " [  0   0   0   0   0   0   0   0  23  66 213 253 253 253 253 198  81   2\n",
            "    0   0   0   0   0   0   0   0   0   0]\n",
            " [  0   0   0   0   0   0  18 171 219 253 253 253 253 195  80   9   0   0\n",
            "    0   0   0   0   0   0   0   0   0   0]\n",
            " [  0   0   0   0  55 172 226 253 253 253 253 244 133  11   0   0   0   0\n",
            "    0   0   0   0   0   0   0   0   0   0]\n",
            " [  0   0   0   0 136 253 253 253 212 135 132  16   0   0   0   0   0   0\n",
            "    0   0   0   0   0   0   0   0   0   0]\n",
            " [  0   0   0   0   0   0   0   0   0   0   0   0   0   0   0   0   0   0\n",
            "    0   0   0   0   0   0   0   0   0   0]\n",
            " [  0   0   0   0   0   0   0   0   0   0   0   0   0   0   0   0   0   0\n",
            "    0   0   0   0   0   0   0   0   0   0]\n",
            " [  0   0   0   0   0   0   0   0   0   0   0   0   0   0   0   0   0   0\n",
            "    0   0   0   0   0   0   0   0   0   0]]\n"
          ],
          "name": "stdout"
        }
      ]
    },
    {
      "cell_type": "markdown",
      "metadata": {
        "id": "G31iw945Lye7"
      },
      "source": [
        "**Here are more details about the shape of the sets, and I plot one image as an example.**"
      ]
    },
    {
      "cell_type": "code",
      "metadata": {
        "id": "8d_VIbtevk0d",
        "colab": {
          "base_uri": "https://localhost:8080/"
        },
        "outputId": "447eb2cc-ebb0-41dc-bc3f-242743ebfcfc"
      },
      "source": [
        "print('x_train shape: ', x_train.shape)\n",
        "print('y_train shape: ', y_train.shape)\n",
        "print('x_test shape: ', x_test.shape)\n",
        "print('y_test shape: ', y_test.shape)"
      ],
      "execution_count": 35,
      "outputs": [
        {
          "output_type": "stream",
          "text": [
            "x_train shape:  (60000, 28, 28)\n",
            "y_train shape:  (60000,)\n",
            "x_test shape:  (10000, 28, 28)\n",
            "y_test shape:  (10000,)\n"
          ],
          "name": "stdout"
        }
      ]
    },
    {
      "cell_type": "code",
      "metadata": {
        "id": "aeagTDFC4s3i",
        "colab": {
          "base_uri": "https://localhost:8080/",
          "height": 265
        },
        "outputId": "2652d0fe-7e64-44b9-ae2e-50bef5499a7b"
      },
      "source": [
        "plt.imshow(x_train[0], cmap = 'binary')\n",
        "plt.show()"
      ],
      "execution_count": 36,
      "outputs": [
        {
          "output_type": "display_data",
          "data": {
            "image/png": "[encoded data removed]",
            "text/plain": [
              "<Figure size 432x288 with 1 Axes>"
            ]
          },
          "metadata": {
            "tags": [],
            "needs_background": "light"
          }
        }
      ]
    },
    {
      "cell_type": "code",
      "metadata": {
        "id": "7rl5HXq54s3i",
        "colab": {
          "base_uri": "https://localhost:8080/"
        },
        "outputId": "97343d31-469b-4556-c657-c37afeca4cee"
      },
      "source": [
        "y_train[0]"
      ],
      "execution_count": 37,
      "outputs": [
        {
          "output_type": "execute_result",
          "data": {
            "text/plain": [
              "5"
            ]
          },
          "metadata": {
            "tags": []
          },
          "execution_count": 37
        }
      ]
    },
    {
      "cell_type": "code",
      "metadata": {
        "id": "7w-4Uy-hvw17",
        "colab": {
          "base_uri": "https://localhost:8080/"
        },
        "outputId": "9545ca59-20bf-41e0-f969-d7fb035b1508"
      },
      "source": [
        "y_train[:10]"
      ],
      "execution_count": 38,
      "outputs": [
        {
          "output_type": "execute_result",
          "data": {
            "text/plain": [
              "array([5, 0, 4, 1, 9, 2, 1, 3, 1, 4], dtype=uint8)"
            ]
          },
          "metadata": {
            "tags": []
          },
          "execution_count": 38
        }
      ]
    },
    {
      "cell_type": "markdown",
      "metadata": {
        "id": "W-86VJXU7-YG"
      },
      "source": [
        "**Since the output labels only have 10 values, I apply one-hot encoding to convert the labels to classes 0 or 1.**"
      ]
    },
    {
      "cell_type": "code",
      "metadata": {
        "id": "25SjOAht4s3k"
      },
      "source": [
        "from tensorflow.keras.utils import to_categorical\n",
        "\n",
        "y_train_encoded = to_categorical(y_train)\n",
        "y_test_encoded = to_categorical(y_test)"
      ],
      "execution_count": 39,
      "outputs": []
    },
    {
      "cell_type": "markdown",
      "metadata": {
        "id": "fF4yK32nq886"
      },
      "source": [
        "**I check the shape of the encoded labels.**"
      ]
    },
    {
      "cell_type": "code",
      "metadata": {
        "id": "nwIfsF424s3l",
        "colab": {
          "base_uri": "https://localhost:8080/"
        },
        "outputId": "9b333bcd-945a-4222-cf3c-0bc08c47f21a"
      },
      "source": [
        "print('y_train shape: ', y_train_encoded.shape)\n",
        "print('y_test shape: ', y_test_encoded.shape)"
      ],
      "execution_count": 40,
      "outputs": [
        {
          "output_type": "stream",
          "text": [
            "y_train shape:  (60000, 10)\n",
            "y_test shape:  (10000, 10)\n"
          ],
          "name": "stdout"
        }
      ]
    },
    {
      "cell_type": "code",
      "metadata": {
        "colab": {
          "base_uri": "https://localhost:8080/"
        },
        "id": "BXcgtcMn8bHE",
        "outputId": "e86a2093-fd28-4bb6-c384-9451f7588140"
      },
      "source": [
        "y_train_encoded[0]"
      ],
      "execution_count": 41,
      "outputs": [
        {
          "output_type": "execute_result",
          "data": {
            "text/plain": [
              "array([0., 0., 0., 0., 0., 1., 0., 0., 0., 0.], dtype=float32)"
            ]
          },
          "metadata": {
            "tags": []
          },
          "execution_count": 41
        }
      ]
    },
    {
      "cell_type": "markdown",
      "metadata": {
        "id": "D3KbOM3_8dck"
      },
      "source": [
        "**The outputs will now be 10-dimensional vectors, and I want to input 784 dimensional vectors (28 rows * 28 columns) to the NN.**"
      ]
    },
    {
      "cell_type": "code",
      "metadata": {
        "id": "h01Ncj0A4s3l",
        "colab": {
          "base_uri": "https://localhost:8080/"
        },
        "outputId": "752ef291-1804-46c8-bfbd-ae7c60769494"
      },
      "source": [
        "x_train_reshaped = np.reshape(x_train, (60000, 784))\n",
        "x_test_reshaped = np.reshape(x_test, (10000, 784))\n",
        "\n",
        "print('x_train_reshaped shape: ', x_train_reshaped.shape)\n",
        "print('x_test_reshaped shape: ', x_test_reshaped.shape)"
      ],
      "execution_count": 42,
      "outputs": [
        {
          "output_type": "stream",
          "text": [
            "x_train_reshaped shape:  (60000, 784)\n",
            "x_test_reshaped shape:  (10000, 784)\n"
          ],
          "name": "stdout"
        }
      ]
    },
    {
      "cell_type": "code",
      "metadata": {
        "colab": {
          "base_uri": "https://localhost:8080/"
        },
        "id": "w0E4xY3R9CTA",
        "outputId": "1ca82e25-ae3c-44f7-f27b-9d42921209d2"
      },
      "source": [
        "print(set(x_train_reshaped[0]))"
      ],
      "execution_count": 43,
      "outputs": [
        {
          "output_type": "stream",
          "text": [
            "{0, 1, 2, 3, 9, 11, 14, 16, 18, 23, 24, 25, 26, 27, 30, 35, 36, 39, 43, 45, 46, 49, 55, 56, 64, 66, 70, 78, 80, 81, 82, 90, 93, 94, 107, 108, 114, 119, 126, 127, 130, 132, 133, 135, 136, 139, 148, 150, 154, 156, 160, 166, 170, 171, 172, 175, 182, 183, 186, 187, 190, 195, 198, 201, 205, 207, 212, 213, 219, 221, 225, 226, 229, 238, 240, 241, 242, 244, 247, 249, 250, 251, 252, 253, 255}\n"
          ],
          "name": "stdout"
        }
      ]
    },
    {
      "cell_type": "markdown",
      "metadata": {
        "id": "oU-VyzgysaBz"
      },
      "source": [
        "**I also need to normalize the pixel values to enable the NN to learn the weights and biases. To achieve this, I calculate the mean and standard deviation for each example.**"
      ]
    },
    {
      "cell_type": "code",
      "metadata": {
        "id": "L70Lj2g24s3l",
        "colab": {
          "base_uri": "https://localhost:8080/"
        },
        "outputId": "27062ba4-12e9-472c-d4eb-503c3cb3f252"
      },
      "source": [
        "x_mean = np.mean(x_train_reshaped)\n",
        "x_std = np.std(x_train_reshaped)\n",
        "\n",
        "print('Mean: ', x_mean)\n",
        "print('STD: ', x_std)"
      ],
      "execution_count": 44,
      "outputs": [
        {
          "output_type": "stream",
          "text": [
            "Mean:  33.318421449829934\n",
            "STD:  78.56748998339798\n"
          ],
          "name": "stdout"
        }
      ]
    },
    {
      "cell_type": "code",
      "metadata": {
        "id": "3hvD0CYk4s3m",
        "colab": {
          "base_uri": "https://localhost:8080/"
        },
        "outputId": "09cb8cba-e142-47b0-a72f-b86b62f15b60"
      },
      "source": [
        "epsilon = 1e-10\n",
        "x_train_norm = (x_train_reshaped - x_mean)/(x_std + epsilon)\n",
        "x_test_norm = (x_test_reshaped - x_mean)/(x_std + epsilon)\n",
        "\n",
        "print(set(x_train_norm[0]))"
      ],
      "execution_count": 45,
      "outputs": [
        {
          "output_type": "stream",
          "text": [
            "{-0.38589016215482896, 1.306921966983251, 1.17964285952926, 1.803310486053816, 1.6887592893452241, 2.8215433456857437, 2.719720059722551, 1.1923707702746593, 1.7396709323268205, 2.057868700961798, 2.3633385588513764, 2.096052433197995, 1.7651267538176187, 2.7960875241949457, 2.7451758812133495, 2.45243393406917, 0.02140298169794222, -0.22042732246464067, 1.2305545025108566, 0.2759611966059242, 2.210603629906587, 2.6560805059955555, 2.6051688630139593, -0.4240738943910262, 0.4668798577869107, 0.1486820891519332, 0.3905123933145161, 1.0905474843114664, -0.09314821501064967, 1.4851127174188385, 2.7579037919587486, 1.5360243604004349, 0.07231462467953861, -0.13133194724684696, 1.294194056237852, 0.03413089244334132, 1.3451056992194483, 2.274243183633583, -0.24588314395543887, 0.772349715676489, 0.75962180493109, 0.7214380726948927, 0.1995937321335296, -0.41134598364562713, 0.5687031437501034, 0.5941589652409017, 0.9378125553666773, 0.9505404661120763, 0.6068868759863008, 0.4159682148053143, -0.042236572029053274, 2.7706317027041476, 2.1342361654341926, 0.12322626766113501, -0.08042030426525057, 0.16140999989733232, 1.8924058612716097, 1.2560103240016547, 2.185147808415789, 0.6196147867316999, 1.943317504253206, -0.11860403650144787, -0.30952269768243434, 1.9942291472348024, -0.2840668761916362, 2.6306246845047574, 2.286971094378982, -0.19497150097384247, -0.39861807290022805, 0.2886891073513233, 1.7523988430722195, 2.3887943803421745, 2.681536327486354, 1.4596568959280403, 2.439706023323771, 2.7833596134495466, 2.490617666305367, -0.10587612575604877, 1.5614801818912332, 1.9051337720170087, 1.6123918248728295, 1.268738234747054, 1.9560454149986053, 2.6433525952501564, 1.026907930584471}\n"
          ],
          "name": "stdout"
        }
      ]
    },
    {
      "cell_type": "markdown",
      "metadata": {
        "id": "IBzPsMvh9ZJ7"
      },
      "source": [
        "**For the model, I use a Sequential class with Dense layers where the activation function will be ELU and Softmax.**"
      ]
    },
    {
      "cell_type": "code",
      "metadata": {
        "id": "5yhHg8_d4s3m"
      },
      "source": [
        "from tensorflow.keras.models import Sequential\n",
        "from tensorflow.keras.layers import Dense\n",
        "\n",
        "model = Sequential([\n",
        "    Dense(128, activation = 'elu', input_shape = (784,)),\n",
        "    Dense(128, activation = 'elu'),\n",
        "    Dense(128, activation = 'elu'),\n",
        "    Dense(10, activation = 'softmax')\n",
        "])"
      ],
      "execution_count": 64,
      "outputs": []
    },
    {
      "cell_type": "markdown",
      "metadata": {
        "id": "zghgviZFuwFs"
      },
      "source": [
        "**I configure the model for training.**"
      ]
    },
    {
      "cell_type": "code",
      "metadata": {
        "id": "gt7rq3pA4s3n",
        "colab": {
          "base_uri": "https://localhost:8080/"
        },
        "outputId": "91d8fc7d-a2fd-412d-d7a9-aa967a897676"
      },
      "source": [
        "model.compile(\n",
        "    optimizer = 'adam',\n",
        "    loss = 'categorical_crossentropy',\n",
        "    metrics = ['accuracy']\n",
        ")\n",
        "\n",
        "model.summary()"
      ],
      "execution_count": 65,
      "outputs": [
        {
          "output_type": "stream",
          "text": [
            "Model: \"sequential_6\"\n",
            "_________________________________________________________________\n",
            "Layer (type)                 Output Shape              Param #   \n",
            "=================================================================\n",
            "dense_22 (Dense)             (None, 128)               100480    \n",
            "_________________________________________________________________\n",
            "dense_23 (Dense)             (None, 128)               16512     \n",
            "_________________________________________________________________\n",
            "dense_24 (Dense)             (None, 128)               16512     \n",
            "_________________________________________________________________\n",
            "dense_25 (Dense)             (None, 10)                1290      \n",
            "=================================================================\n",
            "Total params: 134,794\n",
            "Trainable params: 134,794\n",
            "Non-trainable params: 0\n",
            "_________________________________________________________________\n"
          ],
          "name": "stdout"
        }
      ]
    },
    {
      "cell_type": "markdown",
      "metadata": {
        "id": "_3KdoK7dvD_O"
      },
      "source": [
        "**It's time to train the model in 4 epochs.**"
      ]
    },
    {
      "cell_type": "code",
      "metadata": {
        "id": "70cTEJ6H4s3n",
        "colab": {
          "base_uri": "https://localhost:8080/"
        },
        "outputId": "627f43ff-f171-4234-d189-fc56aee26c7f"
      },
      "source": [
        "model.fit(\n",
        "    x_train_norm,\n",
        "    y_train_encoded,\n",
        "    epochs =4\n",
        ")"
      ],
      "execution_count": 68,
      "outputs": [
        {
          "output_type": "stream",
          "text": [
            "Epoch 1/4\n",
            "1875/1875 [==============================] - 4s 2ms/step - loss: 0.0452 - accuracy: 0.9861\n",
            "Epoch 2/4\n",
            "1875/1875 [==============================] - 4s 2ms/step - loss: 0.0398 - accuracy: 0.9866\n",
            "Epoch 3/4\n",
            "1875/1875 [==============================] - 4s 2ms/step - loss: 0.0345 - accuracy: 0.9885\n",
            "Epoch 4/4\n",
            "1875/1875 [==============================] - 4s 2ms/step - loss: 0.0330 - accuracy: 0.9900\n"
          ],
          "name": "stdout"
        },
        {
          "output_type": "execute_result",
          "data": {
            "text/plain": [
              "<tensorflow.python.keras.callbacks.History at 0x7fe155020550>"
            ]
          },
          "metadata": {
            "tags": []
          },
          "execution_count": 68
        }
      ]
    },
    {
      "cell_type": "markdown",
      "metadata": {
        "id": "BkSPKI62HAeG"
      },
      "source": [
        "**I evaluate the performance of the test set to ensure that it did not simply memorize the train set.**"
      ]
    },
    {
      "cell_type": "code",
      "metadata": {
        "colab": {
          "base_uri": "https://localhost:8080/"
        },
        "id": "BzTVEj8LHMdE",
        "outputId": "32eaf6e9-ddeb-4da7-f4fe-a40739de81f4"
      },
      "source": [
        "accuracy = model.evaluate(x_test_norm, y_test_encoded)\n",
        "\n",
        "print('test set accuracy: ', accuracy * 100)"
      ],
      "execution_count": 69,
      "outputs": [
        {
          "output_type": "stream",
          "text": [
            "313/313 [==============================] - 0s 1ms/step - loss: 0.1023 - accuracy: 0.9769\n",
            "test set accuracy:  [0.10225788503885269, 0.9768999814987183, 0.10225788503885269, 0.9768999814987183, 0.10225788503885269, 0.9768999814987183, 0.10225788503885269, 0.9768999814987183, 0.10225788503885269, 0.9768999814987183, 0.10225788503885269, 0.9768999814987183, 0.10225788503885269, 0.9768999814987183, 0.10225788503885269, 0.9768999814987183, 0.10225788503885269, 0.9768999814987183, 0.10225788503885269, 0.9768999814987183, 0.10225788503885269, 0.9768999814987183, 0.10225788503885269, 0.9768999814987183, 0.10225788503885269, 0.9768999814987183, 0.10225788503885269, 0.9768999814987183, 0.10225788503885269, 0.9768999814987183, 0.10225788503885269, 0.9768999814987183, 0.10225788503885269, 0.9768999814987183, 0.10225788503885269, 0.9768999814987183, 0.10225788503885269, 0.9768999814987183, 0.10225788503885269, 0.9768999814987183, 0.10225788503885269, 0.9768999814987183, 0.10225788503885269, 0.9768999814987183, 0.10225788503885269, 0.9768999814987183, 0.10225788503885269, 0.9768999814987183, 0.10225788503885269, 0.9768999814987183, 0.10225788503885269, 0.9768999814987183, 0.10225788503885269, 0.9768999814987183, 0.10225788503885269, 0.9768999814987183, 0.10225788503885269, 0.9768999814987183, 0.10225788503885269, 0.9768999814987183, 0.10225788503885269, 0.9768999814987183, 0.10225788503885269, 0.9768999814987183, 0.10225788503885269, 0.9768999814987183, 0.10225788503885269, 0.9768999814987183, 0.10225788503885269, 0.9768999814987183, 0.10225788503885269, 0.9768999814987183, 0.10225788503885269, 0.9768999814987183, 0.10225788503885269, 0.9768999814987183, 0.10225788503885269, 0.9768999814987183, 0.10225788503885269, 0.9768999814987183, 0.10225788503885269, 0.9768999814987183, 0.10225788503885269, 0.9768999814987183, 0.10225788503885269, 0.9768999814987183, 0.10225788503885269, 0.9768999814987183, 0.10225788503885269, 0.9768999814987183, 0.10225788503885269, 0.9768999814987183, 0.10225788503885269, 0.9768999814987183, 0.10225788503885269, 0.9768999814987183, 0.10225788503885269, 0.9768999814987183, 0.10225788503885269, 0.9768999814987183, 0.10225788503885269, 0.9768999814987183, 0.10225788503885269, 0.9768999814987183, 0.10225788503885269, 0.9768999814987183, 0.10225788503885269, 0.9768999814987183, 0.10225788503885269, 0.9768999814987183, 0.10225788503885269, 0.9768999814987183, 0.10225788503885269, 0.9768999814987183, 0.10225788503885269, 0.9768999814987183, 0.10225788503885269, 0.9768999814987183, 0.10225788503885269, 0.9768999814987183, 0.10225788503885269, 0.9768999814987183, 0.10225788503885269, 0.9768999814987183, 0.10225788503885269, 0.9768999814987183, 0.10225788503885269, 0.9768999814987183, 0.10225788503885269, 0.9768999814987183, 0.10225788503885269, 0.9768999814987183, 0.10225788503885269, 0.9768999814987183, 0.10225788503885269, 0.9768999814987183, 0.10225788503885269, 0.9768999814987183, 0.10225788503885269, 0.9768999814987183, 0.10225788503885269, 0.9768999814987183, 0.10225788503885269, 0.9768999814987183, 0.10225788503885269, 0.9768999814987183, 0.10225788503885269, 0.9768999814987183, 0.10225788503885269, 0.9768999814987183, 0.10225788503885269, 0.9768999814987183, 0.10225788503885269, 0.9768999814987183, 0.10225788503885269, 0.9768999814987183, 0.10225788503885269, 0.9768999814987183, 0.10225788503885269, 0.9768999814987183, 0.10225788503885269, 0.9768999814987183, 0.10225788503885269, 0.9768999814987183, 0.10225788503885269, 0.9768999814987183, 0.10225788503885269, 0.9768999814987183, 0.10225788503885269, 0.9768999814987183, 0.10225788503885269, 0.9768999814987183, 0.10225788503885269, 0.9768999814987183, 0.10225788503885269, 0.9768999814987183, 0.10225788503885269, 0.9768999814987183, 0.10225788503885269, 0.9768999814987183, 0.10225788503885269, 0.9768999814987183, 0.10225788503885269, 0.9768999814987183, 0.10225788503885269, 0.9768999814987183, 0.10225788503885269, 0.9768999814987183, 0.10225788503885269, 0.9768999814987183, 0.10225788503885269, 0.9768999814987183, 0.10225788503885269, 0.9768999814987183, 0.10225788503885269, 0.9768999814987183, 0.10225788503885269, 0.9768999814987183, 0.10225788503885269, 0.9768999814987183]\n"
          ],
          "name": "stdout"
        }
      ]
    },
    {
      "cell_type": "markdown",
      "metadata": {
        "id": "6dCGfECeIECo"
      },
      "source": [
        "**I can now use the model to predict the values of the test set and plot some of the images with their predicted and actual labels.**"
      ]
    },
    {
      "cell_type": "code",
      "metadata": {
        "colab": {
          "base_uri": "https://localhost:8080/"
        },
        "id": "69CdZCN4IJP6",
        "outputId": "1d34ff10-52b7-4b77-8401-4d944e83d030"
      },
      "source": [
        "prediction = model.predict(x_test_norm)\n",
        "\n",
        "print('Shape of prediction: ', prediction.shape)"
      ],
      "execution_count": 70,
      "outputs": [
        {
          "output_type": "stream",
          "text": [
            "Shape of prediction:  (10000, 10)\n"
          ],
          "name": "stdout"
        }
      ]
    },
    {
      "cell_type": "code",
      "metadata": {
        "id": "xNFaegU14s3o",
        "colab": {
          "base_uri": "https://localhost:8080/",
          "height": 563
        },
        "outputId": "be627335-3bfd-41e8-9027-61733379ed35"
      },
      "source": [
        "plt.figure(figsize = (12, 12))\n",
        "\n",
        "start_index = 0\n",
        "\n",
        "for i in range(20):\n",
        "    plt.subplot(5, 5, i + 1)\n",
        "    plt.grid(False)\n",
        "    plt.xticks([])\n",
        "    plt.yticks([])\n",
        "    pred = np.argmax(prediction[start_index + i])\n",
        "    actual = np.argmax(y_test_encoded[start_index + i])\n",
        "    col = 'g'\n",
        "    if pred != actual:\n",
        "        col = 'r'\n",
        "    plt.xlabel('i={} | pred={} | true={}'.format(start_index + i, pred, actual), color = col)\n",
        "    plt.imshow(x_test[start_index + i], cmap='binary')\n",
        "plt.show()"
      ],
      "execution_count": 71,
      "outputs": [
        {
          "output_type": "display_data",
          "data": {
            "image/png": "[encoded data removed]",
            "text/plain": [
              "<Figure size 864x864 with 20 Axes>"
            ]
          },
          "metadata": {
            "tags": []
          }
        }
      ]
    },
    {
      "cell_type": "markdown",
      "metadata": {
        "id": "S9MezC-7I9cT"
      },
      "source": [
        "**I can also visualize the probability scores of the prediction.**"
      ]
    },
    {
      "cell_type": "code",
      "metadata": {
        "id": "h4T3dOx24s3p",
        "colab": {
          "base_uri": "https://localhost:8080/",
          "height": 265
        },
        "outputId": "89257df6-0612-42fc-e78b-55c05d60c448"
      },
      "source": [
        "index = 11\n",
        "\n",
        "plt.plot(prediction[index], 'o-.y', ms = 10)\n",
        "plt.show()"
      ],
      "execution_count": 52,
      "outputs": [
        {
          "output_type": "display_data",
          "data": {
            "image/png": "[encoded data removed]",
            "text/plain": [
              "<Figure size 432x288 with 1 Axes>"
            ]
          },
          "metadata": {
            "tags": [],
            "needs_background": "light"
          }
        }
      ]
    },
    {
      "cell_type": "markdown",
      "metadata": {
        "id": "xV9YXMHqvnLP"
      },
      "source": [
        "**The model is working quite well–it predicts the majority of the digits correctly.**"
      ]
    }
  ]
}