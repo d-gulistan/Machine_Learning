{
  "nbformat": 4,
  "nbformat_minor": 0,
  "metadata": {
    "colab": {
      "name": "Text_Classification_RNN.ipynb",
      "provenance": [],
      "collapsed_sections": []
    },
    "kernelspec": {
      "display_name": "Python 3",
      "name": "python3"
    }
  },
  "cells": [
    {
      "cell_type": "markdown",
      "metadata": {
        "id": "mzaSkQamAApu"
      },
      "source": [
        "### **Text Classification Using an RNN**\n",
        "\n",
        "In this notebook I create a Recurrent Neural Network that will be trained to conduct sentiment analysis on the Large Movie Review Dataset (IMDB). This is a binary classification dataset where all reviews have either a positive or negative sentiment."
      ]
    },
    {
      "cell_type": "code",
      "metadata": {
        "id": "68RBPHvA__BX"
      },
      "source": [
        "!pip3 install -q tensorflow_datasets"
      ],
      "execution_count": 90,
      "outputs": []
    },
    {
      "cell_type": "code",
      "metadata": {
        "id": "8Pt68G2_AZHj"
      },
      "source": [
        "import tensorflow as tf\n",
        "import tensorflow_datasets as tfds\n",
        "import numpy as np"
      ],
      "execution_count": 91,
      "outputs": []
    },
    {
      "cell_type": "code",
      "metadata": {
        "colab": {
          "base_uri": "https://localhost:8080/"
        },
        "id": "1WPZfDYRBsbA",
        "outputId": "209ddfad-ff9a-4dad-de10-1b15517282c7"
      },
      "source": [
        "# I download the dataset from TensorFlow Datasets.\n",
        "tfds.disable_progress_bar()\n",
        "\n",
        "dataset, info = tfds.load('imdb_reviews',\n",
        "                          with_info=True,\n",
        "                          as_supervised=True)\n",
        "train_dataset, test_dataset = dataset['train'], dataset['test']\n",
        "\n",
        "train_dataset.element_spec"
      ],
      "execution_count": 92,
      "outputs": [
        {
          "output_type": "execute_result",
          "data": {
            "text/plain": [
              "(TensorSpec(shape=(), dtype=tf.string, name=None),\n",
              " TensorSpec(shape=(), dtype=tf.int64, name=None))"
            ]
          },
          "metadata": {
            "tags": []
          },
          "execution_count": 92
        }
      ]
    },
    {
      "cell_type": "code",
      "metadata": {
        "colab": {
          "base_uri": "https://localhost:8080/"
        },
        "id": "E62dNcc8D6ra",
        "outputId": "d27eadce-66a7-4ab6-9f0c-fbb8c16ef731"
      },
      "source": [
        "# Here are a few examples from the dataset.\n",
        "for example, label in train_dataset.take(3):\n",
        "  print('Text: ', example.numpy())\n",
        "  print('Label: ', label.numpy())"
      ],
      "execution_count": 93,
      "outputs": [
        {
          "output_type": "stream",
          "text": [
            "Text:  b\"This was an absolutely terrible movie. Don't be lured in by Christopher Walken or Michael Ironside. Both are great actors, but this must simply be their worst role in history. Even their great acting could not redeem this movie's ridiculous storyline. This movie is an early nineties US propaganda piece. The most pathetic scenes were those when the Columbian rebels were making their cases for revolutions. Maria Conchita Alonso appeared phony, and her pseudo-love affair with Walken was nothing but a pathetic emotional plug in a movie that was devoid of any real meaning. I am disappointed that there are movies like this, ruining actor's like Christopher Walken's good name. I could barely sit through it.\"\n",
            "Label:  0\n",
            "Text:  b'I have been known to fall asleep during films, but this is usually due to a combination of things including, really tired, being warm and comfortable on the sette and having just eaten a lot. However on this occasion I fell asleep because the film was rubbish. The plot development was constant. Constantly slow and boring. Things seemed to happen, but with no explanation of what was causing them or why. I admit, I may have missed part of the film, but i watched the majority of it and everything just seemed to happen of its own accord without any real concern for anything else. I cant recommend this film at all.'\n",
            "Label:  0\n",
            "Text:  b'Mann photographs the Alberta Rocky Mountains in a superb fashion, and Jimmy Stewart and Walter Brennan give enjoyable performances as they always seem to do. <br /><br />But come on Hollywood - a Mountie telling the people of Dawson City, Yukon to elect themselves a marshal (yes a marshal!) and to enforce the law themselves, then gunfighters battling it out on the streets for control of the town? <br /><br />Nothing even remotely resembling that happened on the Canadian side of the border during the Klondike gold rush. Mr. Mann and company appear to have mistaken Dawson City for Deadwood, the Canadian North for the American Wild West.<br /><br />Canadian viewers be prepared for a Reefer Madness type of enjoyable howl with this ludicrous plot, or, to shake your head in disgust.'\n",
            "Label:  0\n"
          ],
          "name": "stdout"
        }
      ]
    },
    {
      "cell_type": "code",
      "metadata": {
        "colab": {
          "base_uri": "https://localhost:8080/"
        },
        "id": "aV853Ua2FdVa",
        "outputId": "015f716d-d9c7-44fb-a6dc-522059be1a00"
      },
      "source": [
        "# It's worth shuffling the data, and then creating batches of the 'text', 'label' pairs.\n",
        "BUFFER_SIZE = 10000\n",
        "BATCH_SIZE = 64\n",
        "train_dataset = train_dataset.shuffle(BUFFER_SIZE).batch(BATCH_SIZE).prefetch(tf.data.experimental.AUTOTUNE)\n",
        "test_dataset = test_dataset.batch(BATCH_SIZE).prefetch(tf.data.experimental.AUTOTUNE)\n",
        "\n",
        "# Here are a few examples from the reshuffled dataset.\n",
        "for example, label in train_dataset.take(3):\n",
        "  print('Texts: ', example.numpy()[:3])\n",
        "  print()\n",
        "  print('Labels: ', label.numpy()[:3])"
      ],
      "execution_count": 94,
      "outputs": [
        {
          "output_type": "stream",
          "text": [
            "Texts:  [b'May and her husband go to visit their children and grandchildren. The visit is awkward because the grandchildren and \"kids\" don\\'t really seem to know each other as one might expect. The warmth that should be there is missing. After dinner, May\\'s husband says he doesn\\'t feel well, blames it on his daughter\\'s cooking, and irritably says he wants to go home. He dies that night.<br /><br />May, now a widow, is lost. She clearly did not have a passionate marriage or a very interesting one, but she had a purpose. She had someone who needed her, and even though her own needs had gone unmet for years, she had something to do with her days.<br /><br />She is depressed and unmotivated. She goes to stay with her daughter, Paula, who shortly after her mother\\'s arrival, lets her mother know that she has never felt that her mother has given much of herself at all. She lets loose with anger over her mother\\'s lack of nurturing. May seems disarmed and surprised, yet she also doesn\\'t seem to have the energy or the desire to really make it right. \"I\\'m your mother and I love you.\" What does really say? (I\\'ve heard this from my own mother way too many times and have yet to figure out what it means.) Paula is a bit (well, more than a bit) neurotic. Both women are needy, though they show it very differently.<br /><br />Paula has been involved with a friend of her son\\'s, Darren, who is a handyman working on the house owned by her son. While Paula is working during the day, May begins to have conversations and lunches with Darren. Darren is a married man who has stayed with his wife because of their autistic son, Nicky, but supposedly doesn\\'t live in the home with his wife.<br /><br />May becomes attracted to Darren because he is virile and she enjoys the connection they seem to have. Darren becomes attracted to May because she offers a kind of peace and understanding that he does not get from the other women in his life. (He also becomes too interested in money that May says she can give him to \"get away from it all,\" though he is clearly not interested in her desire to join him on such a journey. They end up sleeping together in the spare room during the day, and May enjoys fulfillment as a woman that she has not known in years, nor had ever expected to know again. As her daughter Paula had often told her that she would leave the married Darren, this becomes part of May\\'s rationalization that what she is doing is okay.<br /><br />At a writing group that Paula leads, May is introduced, rather forced to get together with a widower to whom she is not attracted. There is one scene where she has sex with the older man, who clearly can barely perform, and it truly painful and unsettling as we see the total disgust on May\\'s face as she endures the one-time ghastly liaison.<br /><br />Eventually, Paula discovers through some very graphic sketches done by her mother, that indeed her mother and Darren have been having sex.<br /><br />This film will undoubtedly be seen by many in myriad ways. Sympathies will be divided. At one point, during Paula\\'s writing group, May reveals through a short essay that she used to feel as though she hated her kids by the end of the day, and would leave for pubs after they were asleep, making sure to get back home before her husband.<br /><br />Clearly, a good mother does not think of leaving children alone while she goes off to the local pub. May, however, also had revealed earlier in the film that her husband didn\\'t like her having any friends, so she didn\\'t have any. She did what he wanted her to do. She was miserable but she put up with it because, as she said, \"it was easier.\" So, while May was not the best mother, for those inclined to have any sympathy for her, one might see May\\'s actions as the act of a woman just wanting to be sexual and to be a live for \"a few minutes\" in her lifetime. A woman who just wanted someone to listen to her, to know her as a human being, to have a friend and a lover.<br /><br />Paula, though neurotic and unhappy, perhaps has become that way because of the distant parents who raised her. Certainly, it is not difficult to understand why Paula feels completely betrayed by her mother.<br /><br />It is a well-done film, with more complexities than I have mentioned, and certainly one that will leave the viewer with many, perhaps conflicting, reactions. It is a film worth discussing and debating, and above all, worth seeing.<br /><br />One thing the film leaves us with is the horror and fear of a lonely life. No matter who is deemed \"right\" or who is deemed \\'wrong\" by each viewer, that theme of old age and loneliness, evoking a sense of dread in most of us, is inescapable.'\n",
            " b\"Good story. Good script. Good casting. Good acting. Good directing. Good art direction. Good photography. Good sound. Good editing. Good everything. Put it all together and you end up with good entertainment.<br /><br />The shame of it is that there aren't nearly enough films of this caliber being made these days. We may count ourselves lucky that writers/directors like John Hughes are occasionally able to make their creative voices heard.<br /><br />Whenever I notice that I'm watching a film for the third or fourth time and still find it thoroughly satisfying I have to conclude that something about that film is right.\"\n",
            " b\"After seeing the terrible, terrible, terrible BATMAN: DEAD END I knew I had to see this as soon as I heard about it.<br /><br />Pressing play to view the trailer I thought I was in for another hideous short from what so-far looked like another bad wannabe film-maker trying to bring new depth to an existing character. But was instead greeted with a GREATLY put together trailer for a movie that sadly doesn't exist, as I would LOVE to see a finished movie even if it was only 30 minutes long.<br /><br />WORLD'S FINEST makes up for BATMAN: DEAD END and then some.<br /><br />I look forward to the next short!\"]\n",
            "\n",
            "Labels:  [1 1 1]\n",
            "Texts:  [b'Alfred Hitchcock invented any kind of thriller you could think of:he set the standards so high that any director who makes a suspense movie will be fatally compared to him.<br /><br />The main subject of this Bullock vehicle ,all the ideas,almost everything was already in Hitchcock\\'s classic \" Rope\":the two students who commit a gratuitous crime, Nietsche\\'s philosophy,and the clues that the boys disseminate ,the Master was the first to transfer them to the screen.And with an eighty-minute movie which was a technical riveting tour de force.<br /><br />\"Murder by numbers \" does not take place in a single room,like \"the rope\" ,mind you.And ,what a supreme originality,it pits two cops against the evil youngsters;and ,you would never guess it,these two cops are very different:actually,Bullock plays the part of woman living like a man ,and her partner (Chaplin) is as shy as a clueless girlie.The two boys\\' performances are not really mind-boggling ,not as good ,as ,say ,that of Edward Norton in \"primal fear\" .<br /><br />Well,you know ,\" Rope\" was so good ....'\n",
            " b\"Dwight Frye steals the show in this one as a foolish young man(who seems to be mentally handicapped) who gets himself blamed for vampire-like murders especially after he reveals his love for bats which he likes to stroke and give to unsuspecting friends as 'gifts'!. Besides all of that, there's an entertaining mystery tale involving the above mentioned murders. Underrated.\"\n",
            " b'I just recently watched this 1954 movie starring Vincent Price for the first time on Turner Classic Movies. Price portrays Don Gallico, a magician/inventor who is driven to murder when his boss steals several of his magical inventions (and also his wife, portrayed in a brief role by the lovely Eva Gabor). Even though Price is a murderer, I actually found myself rooting for him, he is a sympathetic character who is driven mad by the greedy people around him who keep taking advantage of him.<br /><br />Although this movie doesn\\'t have the \"horror\" factor of some of his more famous roles (such as my favorite, \"House of Wax\") it nonetheless has enough going for it to keep the viewers interest. <br /><br />This is a must for Vincent Price fans.']\n",
            "\n",
            "Labels:  [0 1 1]\n",
            "Texts:  [b\"A comedy of epically funny proportions from the guys that brought you South Park, and most of the guys from Orgazmo. This vulgur, obscence movie has utterly disgusting, eggotistical, and satirical content. It portrays incredibly cruel treatment of humans and animals. I LOVE IT!!!!! This is some funny stuff. Really funny. Two loser friends create a game in thier driveway, which explodes into a national sensation. Corruption and greed and blackmail turn the sport sour, and its up ta Coop ta fix it. And along the way, you will laugh. Alot. That's all there is. Enjoy!!!!\"\n",
            " b\"Robert Mitchum stars as Clint Tollinger in this short but tough western: Man With The Gun. Tollinger is a professional town tamer - as in, when a town needs someone to save itself; he is the one who is brought in to do it. Tollinger's latest gig comes by as an accident: strolling into town looking for his former fling, he stumbles into a town being played like a puppet by a local western gangster. But many townspeople begin to rue the day they hired Tollinger, as his way of cleaning up the town becomes very taxing (suddenly High Plains Drifter seems less original). <br /><br />Man With The Gun starts off as an average western tough-guy film but begins to surprise you more and more as the film progresses. What starts off as forgettable and run-of-the-mill ends up dark and character-centered. The entire film is very well shot and the cast is very enjoyable. Mitchum is his usual excellent self here in Man With The Gun - not one of his very best performances, Mitchum still has his classic and effective tough-guy screen presence in high gear and he knocks the action-packed, meaningful, and shocking scenes of the film right out of the park. Man With The Gun is a nice Mitchum western and is easily worth one's time.\"\n",
            " b'My wife and I both thought this film a watered-down, made-for-TV (BBC) version of Manhattan Murder Mystery...which is itself good, but not great. The story has little inter- character tension or chemistry, and not much of a plot. Woody Allen\\'s character just sort of wanders around running off at the mouth, and Hugh Jackman and Scarlett Johannsson don\\'t have a lot more to do. It\\'s pretty disappointing, I must say. Ian McShane\\'s role is just an expanded cameo appearance. <br /><br />The first thing that occurred to me was \"I wonder how much the BBC had to pay Woody Allen to dislodge him from Manhatttan?\" He must\\'ve needed the money, and they must have needed his appeal to expand their audience beyond the youth market drawn to the two stars. I\\'m giving this movie 4 stars instead of 3 because it is unbothersome background noise. If you ever want something to have on while you\\'re knitting or sorting your stamp collection, this\\'ll do the job. I wouldn\\'t pay to rent it again.']\n",
            "\n",
            "Labels:  [1 1 0]\n"
          ],
          "name": "stdout"
        }
      ]
    },
    {
      "cell_type": "code",
      "metadata": {
        "colab": {
          "base_uri": "https://localhost:8080/"
        },
        "id": "FPX1VBJGGkJ4",
        "outputId": "4bacaae9-7824-4099-8ae9-a72152e9ba78"
      },
      "source": [
        "# The text was loaded in raw format, so it needs to be processed before I input it into the model.\n",
        "VOCAB_SIZE=1000\n",
        "encoder = tf.keras.layers.experimental.preprocessing.TextVectorization(max_tokens=VOCAB_SIZE)\n",
        "encoder.adapt(train_dataset.map(lambda text, label: text))\n",
        "\n",
        "# Here are the first 15 tokens in the vocabulary.\n",
        "vocab = np.array(encoder.get_vocabulary())\n",
        "vocab[:15]"
      ],
      "execution_count": 95,
      "outputs": [
        {
          "output_type": "execute_result",
          "data": {
            "text/plain": [
              "array(['', '[UNK]', 'the', 'and', 'a', 'of', 'to', 'is', 'in', 'it', 'i',\n",
              "       'this', 'that', 'br', 'was'], dtype='<U14')"
            ]
          },
          "metadata": {
            "tags": []
          },
          "execution_count": 95
        }
      ]
    },
    {
      "cell_type": "code",
      "metadata": {
        "colab": {
          "base_uri": "https://localhost:8080/"
        },
        "id": "PeIHo2KVImdB",
        "outputId": "b06c6f63-c7be-4353-9925-124aea8c3601"
      },
      "source": [
        "# I can now encode the text into indices.\n",
        "encoded_example = encoder(example)[:3].numpy()\n",
        "encoded_example"
      ],
      "execution_count": 96,
      "outputs": [
        {
          "output_type": "execute_result",
          "data": {
            "text/plain": [
              "array([[  4, 220,   5, ...,   0,   0,   0],\n",
              "       [645,   1, 390, ...,   0,   0,   0],\n",
              "       [ 56, 318,   3, ...,   0,   0,   0]])"
            ]
          },
          "metadata": {
            "tags": []
          },
          "execution_count": 96
        }
      ]
    },
    {
      "cell_type": "code",
      "metadata": {
        "colab": {
          "base_uri": "https://localhost:8080/"
        },
        "id": "HHciu_TKI4sM",
        "outputId": "35b1ce15-d9da-4d9a-fb1a-05ce395f610a"
      },
      "source": [
        "# Here are a few examples of the processed text.\n",
        "for n in range(3):\n",
        "  print(\"Original: \", example[n].numpy())\n",
        "  print(\"Round-trip: \", \" \".join(vocab[encoded_example[n]]))\n",
        "  print()"
      ],
      "execution_count": 97,
      "outputs": [
        {
          "output_type": "stream",
          "text": [
            "Original:  b\"A comedy of epically funny proportions from the guys that brought you South Park, and most of the guys from Orgazmo. This vulgur, obscence movie has utterly disgusting, eggotistical, and satirical content. It portrays incredibly cruel treatment of humans and animals. I LOVE IT!!!!! This is some funny stuff. Really funny. Two loser friends create a game in thier driveway, which explodes into a national sensation. Corruption and greed and blackmail turn the sport sour, and its up ta Coop ta fix it. And along the way, you will laugh. Alot. That's all there is. Enjoy!!!!\"\n",
            "Round-trip:  a comedy of [UNK] funny [UNK] from the guys that brought you [UNK] [UNK] and most of the guys from [UNK] this [UNK] [UNK] movie has [UNK] [UNK] [UNK] and [UNK] [UNK] it [UNK] incredibly [UNK] [UNK] of [UNK] and [UNK] i love it this is some funny stuff really funny two [UNK] friends create a game in [UNK] [UNK] which [UNK] into a [UNK] [UNK] [UNK] and [UNK] and [UNK] turn the [UNK] [UNK] and its up [UNK] [UNK] [UNK] [UNK] it and along the way you will laugh [UNK] thats all there is enjoy                                                                                                                                                                                                                                                                                                                                                                                                                                                                                                                                                                                                                                                                                                                                                                                                                                                                                                                                                                                                                                                                                          \n",
            "\n",
            "Original:  b\"Robert Mitchum stars as Clint Tollinger in this short but tough western: Man With The Gun. Tollinger is a professional town tamer - as in, when a town needs someone to save itself; he is the one who is brought in to do it. Tollinger's latest gig comes by as an accident: strolling into town looking for his former fling, he stumbles into a town being played like a puppet by a local western gangster. But many townspeople begin to rue the day they hired Tollinger, as his way of cleaning up the town becomes very taxing (suddenly High Plains Drifter seems less original). <br /><br />Man With The Gun starts off as an average western tough-guy film but begins to surprise you more and more as the film progresses. What starts off as forgettable and run-of-the-mill ends up dark and character-centered. The entire film is very well shot and the cast is very enjoyable. Mitchum is his usual excellent self here in Man With The Gun - not one of his very best performances, Mitchum still has his classic and effective tough-guy screen presence in high gear and he knocks the action-packed, meaningful, and shocking scenes of the film right out of the park. Man With The Gun is a nice Mitchum western and is easily worth one's time.\"\n",
            "Round-trip:  robert [UNK] stars as [UNK] [UNK] in this short but [UNK] [UNK] man with the [UNK] [UNK] is a [UNK] town [UNK] as in when a town needs someone to save itself he is the one who is brought in to do it [UNK] [UNK] [UNK] comes by as an [UNK] [UNK] into town looking for his [UNK] [UNK] he [UNK] into a town being played like a [UNK] by a local [UNK] [UNK] but many [UNK] begin to [UNK] the day they [UNK] [UNK] as his way of [UNK] up the town becomes very [UNK] [UNK] high [UNK] [UNK] seems less original br br man with the [UNK] starts off as an average [UNK] [UNK] film but begins to surprise you more and more as the film [UNK] what starts off as [UNK] and [UNK] ends up dark and [UNK] the entire film is very well shot and the cast is very enjoyable [UNK] is his usual excellent [UNK] here in man with the [UNK] not one of his very best performances [UNK] still has his classic and [UNK] [UNK] screen [UNK] in high [UNK] and he [UNK] the [UNK] [UNK] and [UNK] scenes of the film right out of the [UNK] man with the [UNK] is a nice [UNK] [UNK] and is easily worth ones time                                                                                                                                                                                                                                                                                                                                                                                                                                                                                                                                                                                                                                                                                                                                                                                                                                                                                                                                                                \n",
            "\n",
            "Original:  b'My wife and I both thought this film a watered-down, made-for-TV (BBC) version of Manhattan Murder Mystery...which is itself good, but not great. The story has little inter- character tension or chemistry, and not much of a plot. Woody Allen\\'s character just sort of wanders around running off at the mouth, and Hugh Jackman and Scarlett Johannsson don\\'t have a lot more to do. It\\'s pretty disappointing, I must say. Ian McShane\\'s role is just an expanded cameo appearance. <br /><br />The first thing that occurred to me was \"I wonder how much the BBC had to pay Woody Allen to dislodge him from Manhatttan?\" He must\\'ve needed the money, and they must have needed his appeal to expand their audience beyond the youth market drawn to the two stars. I\\'m giving this movie 4 stars instead of 3 because it is unbothersome background noise. If you ever want something to have on while you\\'re knitting or sorting your stamp collection, this\\'ll do the job. I wouldn\\'t pay to rent it again.'\n",
            "Round-trip:  my wife and i both thought this film a [UNK] [UNK] [UNK] version of [UNK] murder [UNK] is itself good but not great the story has little [UNK] character [UNK] or [UNK] and not much of a plot [UNK] [UNK] character just sort of [UNK] around running off at the [UNK] and [UNK] [UNK] and [UNK] [UNK] dont have a lot more to do its pretty [UNK] i must say [UNK] [UNK] role is just an [UNK] [UNK] [UNK] br br the first thing that [UNK] to me was i wonder how much the [UNK] had to pay [UNK] [UNK] to [UNK] him from [UNK] he [UNK] needed the money and they must have needed his [UNK] to [UNK] their audience beyond the [UNK] [UNK] [UNK] to the two stars im giving this movie 4 stars instead of 3 because it is [UNK] background [UNK] if you ever want something to have on while youre [UNK] or [UNK] your [UNK] [UNK] [UNK] do the job i wouldnt pay to rent it again                                                                                                                                                                                                                                                                                                                                                                                                                                                                                                                                                                                                                                                                                                                                                                                                                                                                                                                                                                                                              \n",
            "\n"
          ],
          "name": "stdout"
        }
      ]
    },
    {
      "cell_type": "markdown",
      "metadata": {
        "id": "nlGF2v8FJ5OW"
      },
      "source": [
        "I now create the model, a Sequential class from Keras.\n",
        "\n",
        "The first layer is an encoder (converts text to sequence of token indices), the second is an embedding layer (converts sequence of token indices to sequence of vectors). Then I add 2 bidirectional LSTM layers, where the output of the first LSTM layer has 3 axes, so it can be passed to another RNN layer. Finally, I apply 2 dense layers and a dropout layer."
      ]
    },
    {
      "cell_type": "code",
      "metadata": {
        "id": "KQiXq1Q0J5dJ"
      },
      "source": [
        "\n",
        "from keras.models import Sequential\n",
        "from keras.layers import Embedding, Bidirectional, LSTM\n",
        "from keras.layers import Dense, Dropout\n",
        "\n",
        "model = Sequential([\n",
        "    encoder,\n",
        "    Embedding(\n",
        "        input_dim=len(encoder.get_vocabulary()),\n",
        "        output_dim=64,\n",
        "        mask_zero=True),\n",
        "    Bidirectional(LSTM(64, return_sequences=True)),\n",
        "    Bidirectional(LSTM(32)),\n",
        "    Dense(64, activation='elu'),\n",
        "    Dropout(0.5),\n",
        "    Dense(1)\n",
        "])"
      ],
      "execution_count": 98,
      "outputs": []
    },
    {
      "cell_type": "code",
      "metadata": {
        "id": "vy7nV7w8L4P0"
      },
      "source": [
        "# I configure the model for training.\n",
        "model.compile(optimizer=tf.keras.optimizers.Adam(1e-4),\n",
        "              loss=tf.keras.losses.BinaryCrossentropy(from_logits=True),\n",
        "              metrics=['accuracy'])"
      ],
      "execution_count": 99,
      "outputs": []
    },
    {
      "cell_type": "code",
      "metadata": {
        "colab": {
          "base_uri": "https://localhost:8080/"
        },
        "id": "7iVrwnzoNI98",
        "outputId": "7248cdb0-a33d-497f-b79a-64dd8f096759"
      },
      "source": [
        "# I train the model.\n",
        "history = model.fit(train_dataset,\n",
        "                    validation_data=test_dataset, \n",
        "                    validation_steps=30,\n",
        "                    epochs=10)"
      ],
      "execution_count": 100,
      "outputs": [
        {
          "output_type": "stream",
          "text": [
            "Epoch 1/10\n",
            "391/391 [==============================] - 1230s 3s/step - loss: 0.6768 - accuracy: 0.5192 - val_loss: 0.4068 - val_accuracy: 0.8052\n",
            "Epoch 2/10\n",
            "391/391 [==============================] - 1203s 3s/step - loss: 0.3687 - accuracy: 0.8288 - val_loss: 0.3393 - val_accuracy: 0.8505\n",
            "Epoch 3/10\n",
            "391/391 [==============================] - 1202s 3s/step - loss: 0.3236 - accuracy: 0.8575 - val_loss: 0.3296 - val_accuracy: 0.8427\n",
            "Epoch 4/10\n",
            "391/391 [==============================] - 1208s 3s/step - loss: 0.3158 - accuracy: 0.8613 - val_loss: 0.3388 - val_accuracy: 0.8375\n",
            "Epoch 5/10\n",
            "391/391 [==============================] - 1214s 3s/step - loss: 0.3101 - accuracy: 0.8651 - val_loss: 0.3221 - val_accuracy: 0.8474\n",
            "Epoch 6/10\n",
            "391/391 [==============================] - 1213s 3s/step - loss: 0.3016 - accuracy: 0.8686 - val_loss: 0.3523 - val_accuracy: 0.8526\n",
            "Epoch 7/10\n",
            "391/391 [==============================] - 1199s 3s/step - loss: 0.3041 - accuracy: 0.8677 - val_loss: 0.3364 - val_accuracy: 0.8583\n",
            "Epoch 8/10\n",
            "391/391 [==============================] - 1198s 3s/step - loss: 0.2996 - accuracy: 0.8705 - val_loss: 0.3226 - val_accuracy: 0.8557\n",
            "Epoch 9/10\n",
            "391/391 [==============================] - 1213s 3s/step - loss: 0.2876 - accuracy: 0.8757 - val_loss: 0.3293 - val_accuracy: 0.8599\n",
            "Epoch 10/10\n",
            "391/391 [==============================] - 1211s 3s/step - loss: 0.2854 - accuracy: 0.8759 - val_loss: 0.3213 - val_accuracy: 0.8557\n"
          ],
          "name": "stdout"
        }
      ]
    },
    {
      "cell_type": "code",
      "metadata": {
        "colab": {
          "base_uri": "https://localhost:8080/"
        },
        "id": "avZMXE9OyeKC",
        "outputId": "2a58d920-2ad1-4445-b51b-3b1b506c43c3"
      },
      "source": [
        "# I verify the loss and accuracy on the test set.\n",
        "test_loss, test_acc = model.evaluate(test_dataset)\n",
        "\n",
        "print('Test Loss: {}'.format(test_loss))\n",
        "print('Test Accuracy: {}'.format(test_acc))"
      ],
      "execution_count": 101,
      "outputs": [
        {
          "output_type": "stream",
          "text": [
            "391/391 [==============================] - 267s 683ms/step - loss: 0.3178 - accuracy: 0.8609\n",
            "Test Loss: 0.3177611529827118\n",
            "Test Accuracy: 0.8608800172805786\n"
          ],
          "name": "stdout"
        }
      ]
    },
    {
      "cell_type": "code",
      "metadata": {
        "colab": {
          "base_uri": "https://localhost:8080/"
        },
        "id": "kcUM6QQG_dgm",
        "outputId": "3e939455-582d-4e8d-a3aa-3a7052a86508"
      },
      "source": [
        "# I run a prediction on a new sentence.\n",
        "# If the prediction is >=0.0, it is a positive review.\n",
        "# If the prediction is <0.0, it is a negative review.\n",
        "sample_text = ('What a great movie! My favorite cartoon characters came to life, and I '\n",
        "                    'love the soundtrack too.')\n",
        "predictions = model.predict(np.array([sample_text]))\n",
        "print(predictions)"
      ],
      "execution_count": 102,
      "outputs": [
        {
          "output_type": "stream",
          "text": [
            "[[4.5822644]]\n"
          ],
          "name": "stdout"
        }
      ]
    },
    {
      "cell_type": "code",
      "metadata": {
        "colab": {
          "base_uri": "https://localhost:8080/"
        },
        "id": "7XcvwUxF0ID1",
        "outputId": "a0a26f33-7bf1-486b-95c5-83819c24a0c5"
      },
      "source": [
        "sample_text = ('The movie was simply bad. The plot, the sceens, the actors '\n",
        "                    'were terrible. Not recommended at all.')\n",
        "predictions = model.predict(np.array([sample_text]))\n",
        "print(predictions)"
      ],
      "execution_count": 103,
      "outputs": [
        {
          "output_type": "stream",
          "text": [
            "[[-3.5657637]]\n"
          ],
          "name": "stdout"
        }
      ]
    },
    {
      "cell_type": "code",
      "metadata": {
        "colab": {
          "base_uri": "https://localhost:8080/"
        },
        "id": "GskVHGfBBZpK",
        "outputId": "ac08c5c3-7006-4e05-f9c2-1f1d0c80780b"
      },
      "source": [
        "sample_text = ('I usually don`t like action movies but this one was great.')\n",
        "predictions = model.predict(np.array([sample_text]))\n",
        "print(predictions)"
      ],
      "execution_count": 111,
      "outputs": [
        {
          "output_type": "stream",
          "text": [
            "[[0.87180996]]\n"
          ],
          "name": "stdout"
        }
      ]
    },
    {
      "cell_type": "code",
      "metadata": {
        "id": "AOpB1FEcAvG_",
        "colab": {
          "base_uri": "https://localhost:8080/",
          "height": 388
        },
        "outputId": "647f4cec-ba0b-4740-e309-36c65e03e7da"
      },
      "source": [
        "import matplotlib.pyplot as plt\n",
        "%matplotlib inline\n",
        "\n",
        "# I can plot the accuracy and loss metrics with Matplotlib.\n",
        "def plot_graphs(history, metric):\n",
        "  plt.plot(history.history[metric])\n",
        "  plt.plot(history.history['val_'+metric], '')\n",
        "  plt.xlabel(\"Epochs\")\n",
        "  plt.ylabel(metric)\n",
        "  plt.legend([metric, 'val_'+metric])\n",
        "\n",
        "plt.figure(figsize=(16,6))\n",
        "plt.subplot(1,2,1)\n",
        "plot_graphs(history, 'accuracy')\n",
        "plt.subplot(1,2,2)\n",
        "plot_graphs(history, 'loss')"
      ],
      "execution_count": 108,
      "outputs": [
        {
          "output_type": "display_data",
          "data": {
            "image/png": "[encoded data removed]",
            "text/plain": [
              "<Figure size 1152x432 with 2 Axes>"
            ]
          },
          "metadata": {
            "tags": [],
            "needs_background": "light"
          }
        }
      ]
    }
  ]
}